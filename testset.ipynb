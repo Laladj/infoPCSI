{
 "cells": [
  {
   "cell_type": "code",
   "execution_count": 1,
   "metadata": {},
   "outputs": [
    {
     "name": "stdout",
     "output_type": "stream",
     "text": [
      "1\n",
      "[0, 1, 1]\n",
      "2\n",
      "[0, 1, 1, 2]\n",
      "3\n",
      "[0, 1, 1, 2, 3]\n",
      "5\n",
      "[0, 1, 1, 2, 3, 5]\n",
      "8\n",
      "[0, 1, 1, 2, 3, 5, 8]\n",
      "13\n",
      "[0, 1, 1, 2, 3, 5, 8, 13]\n",
      "21\n",
      "[0, 1, 1, 2, 3, 5, 8, 13, 21]\n",
      "34\n",
      "[0, 1, 1, 2, 3, 5, 8, 13, 21, 34]\n"
     ]
    },
    {
     "data": {
      "text/plain": [
       "[0, 1, 1, 2, 3, 5, 8, 13, 21, 34]"
      ]
     },
     "execution_count": 1,
     "metadata": {},
     "output_type": "execute_result"
    }
   ],
   "source": [
    "def troncation_a_la_plus_courte(L1,L2)->tuple:\n",
    "     \"\"\"renvoie la troncation des deux listes passees \n",
    "     en parametre\"\"\"\n",
    "     if len(L1) <= len(L2):\n",
    "          return (L1, L2[:len(L1)])\n",
    "     else:\n",
    "          return (L1[:len(L2)],L2)\n",
    "\n",
    "def suite_liste(L1,L2,n)->list:\n",
    "    \"\"\" Prend en argument deux listes de reels, et Renvoie \n",
    "la liste constituée des n premiers termes de la suite récurrente\n",
    "linéaire d'ordre P= len(L1)\n",
    "C'est à dire les termes du 0ème au n-1ème\n",
    "    \n",
    "    La première liste comporte les coefficient (a1, a2....an)\n",
    "    la seconde liste comporte la liste de reels (u0...un-1)\n",
    "\n",
    "    Exemple : L1 contient les coefficients : A0 A1 et A2 tels que Un+3 = A0*un + A1*un+1 + A2*un+2\n",
    "            L2 contient u0 = 3, u1= 2, u2 = 5 (premiers termes de la suite recurrente linéaire d'ordre p=3)\n",
    "    \n",
    "             \"\"\"\n",
    "    troncation_a_la_plus_courte(L1,L2)\n",
    "    un = 0\n",
    "    p = len(L2) #on stocke l'ordre de la suite \n",
    "    \n",
    "    if n <= len(L2):\n",
    "        return L2[0:n]\n",
    "    else:\n",
    "        for i in range(len(L2),n):\n",
    "            un = sum([L1[x]*L2[-p+x] for x in range(p)])\n",
    "            # print(un)\n",
    "            #on calcule la suite a partir des p derniers termes de la liste. \n",
    "            L2.append(un)\n",
    "            # print(L2)\n",
    "        return L2\n",
    "            \n",
    "\n",
    "\n",
    "#on essaie la suite de fibonacci\n",
    "fib1 = [1,1]\n",
    "fib2 = [0,1]    \n",
    "suite_liste(fib1,fib2,10)\n",
    "#[0, 1, 1, 2, 3, 5, 8, 13, 21, 34]"
   ]
  },
  {
   "cell_type": "code",
   "execution_count": null,
   "metadata": {},
   "outputs": [],
   "source": []
  },
  {
   "cell_type": "code",
   "execution_count": 20,
   "metadata": {},
   "outputs": [
    {
     "data": {
      "text/plain": [
       "1024"
      ]
     },
     "execution_count": 20,
     "metadata": {},
     "output_type": "execute_result"
    }
   ],
   "source": [
    "def suiteOrdre1(raison,premierTerme,n):\n",
    "    un = premierTerme\n",
    "    for i in range(0,n):\n",
    "        un = raison*un\n",
    "    return un\n",
    "suiteOrdre1(2,1,10)\n",
    "        "
   ]
  },
  {
   "cell_type": "code",
   "execution_count": 24,
   "metadata": {},
   "outputs": [],
   "source": []
  },
  {
   "cell_type": "code",
   "execution_count": null,
   "metadata": {},
   "outputs": [],
   "source": [
    "def suite(L1,L2,n):\n",
    "    un, ui = 0, 0\n",
    "    output = L2\n",
    "    for i in range(L2,n):\n",
    "        ui = sum(L1[])\n"
   ]
  },
  {
   "cell_type": "code",
   "execution_count": 62,
   "metadata": {},
   "outputs": [
    {
     "name": "stdout",
     "output_type": "stream",
     "text": [
      "[0, 1, 2, 3, 4, 5, 6] [0, 1, 2, 3, 4, 5, 6, 7, 8, 9, 10, 11]\n",
      "[0, 1, 4, 9, 16, 25, 36]\n",
      "45\n"
     ]
    }
   ],
   "source": [
    "L1 = [x for x in range(0,7)]\n",
    "L2 = [x for x in range(0,12)]\n",
    "L3 = [L1[x]*L2[x]for x in range(0,7)]\n",
    "print(L1,L2)\n",
    "print(L3)\n",
    "print(sum([x for x in range(0,10)]))"
   ]
  },
  {
   "cell_type": "code",
   "execution_count": null,
   "metadata": {},
   "outputs": [],
   "source": []
  }
 ],
 "metadata": {
  "kernelspec": {
   "display_name": "Python 3",
   "language": "python",
   "name": "python3"
  },
  "language_info": {
   "codemirror_mode": {
    "name": "ipython",
    "version": 3
   },
   "file_extension": ".py",
   "mimetype": "text/x-python",
   "name": "python",
   "nbconvert_exporter": "python",
   "pygments_lexer": "ipython3",
   "version": "3.9.6"
  }
 },
 "nbformat": 4,
 "nbformat_minor": 2
}
