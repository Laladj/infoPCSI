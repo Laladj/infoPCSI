{
 "cells": [
  {
   "cell_type": "code",
   "execution_count": 3,
   "metadata": {},
   "outputs": [
    {
     "data": {
      "text/plain": [
       "[1, 2, 4, 8, 16, 32, 64, 128, 256, 512]"
      ]
     },
     "execution_count": 3,
     "metadata": {},
     "output_type": "execute_result"
    }
   ],
   "source": [
    "def troncation_a_la_plus_courte(L1,L2)->tuple:\n",
    "     \"\"\"renvoie la troncation des deux listes passees \n",
    "     en parametre\"\"\"\n",
    "     if len(L1) <= len(L2):\n",
    "          return (L1, L2[:len(L1)])\n",
    "     else:\n",
    "          return (L1[:len(L2)],L2)\n",
    "\n",
    "def suite_liste(L1,L2,n)->list:\n",
    "    \"\"\" Prend en argument deux listes de reels, et Renvoie \n",
    "la liste constituée des n premiers termes de la suite récurrente\n",
    "linéaire d'ordre P= len(L1)\n",
    "C'est à dire les termes du 0ème au n-1ème\n",
    "    \n",
    "    La première liste comporte les coefficient (a1, a2....an)\n",
    "    la seconde liste comporte la liste de reels (u0...un-1)\n",
    "\n",
    "    Exemple : L1 contient les coefficients : A0 A1 et A2 tels que Un+3 = A0*un + A1*un+1 + A2*un+2\n",
    "            L2 contient u0 = 3, u1= 2, u2 = 5 (premiers termes de la suite recurrente linéaire d'ordre p=3)\n",
    "    \n",
    "             \"\"\"\n",
    "    troncation_a_la_plus_courte(L1,L2)\n",
    "    un = 0\n",
    "    p = len(L2) #on stocke l'ordre de la suite \n",
    "    \n",
    "    if n <= len(L2):\n",
    "        return L2[0:n]\n",
    "    else:\n",
    "        for i in range(len(L2),n):\n",
    "            un = sum([L1[x]*L2[-p+x] for x in range(p)])\n",
    "            # print(un)\n",
    "            #on calcule la suite a partir des p derniers termes de la liste. \n",
    "            L2.append(un)\n",
    "            # print(L2)\n",
    "        return L2\n",
    "            \n",
    "\n",
    "\n",
    "L1 = [2]\n",
    "L2= [1]\n",
    "suite_liste(L1,L2,10)"
   ]
  },
  {
   "cell_type": "code",
   "execution_count": 2,
   "metadata": {},
   "outputs": [
    {
     "data": {
      "text/plain": [
       "[189, 125, 89, 82, 262, 168, 293, 134, 240, 2]"
      ]
     },
     "execution_count": 2,
     "metadata": {},
     "output_type": "execute_result"
    }
   ],
   "source": [
    "import random as rd\n",
    "L2 = [rd.randrange(0,301) for _ in range(10)]\n",
    "L2"
   ]
  },
  {
   "cell_type": "code",
   "execution_count": 1,
   "metadata": {},
   "outputs": [
    {
     "name": "stdout",
     "output_type": "stream",
     "text": [
      "(0, 1, 2, 3, 4, 5, 6, 7, 8, 9)\n"
     ]
    }
   ],
   "source": [
    "L= [ x for x in range(0,10)]\n",
    "a = tuple(L)\n",
    "print(a)"
   ]
  },
  {
   "cell_type": "code",
   "execution_count": 3,
   "metadata": {},
   "outputs": [
    {
     "name": "stdout",
     "output_type": "stream",
     "text": [
      "1.0\n"
     ]
    }
   ],
   "source": [
    "def distib(m):\n",
    "    distrib_Uniform = [1/m for x in range(m)]\n",
    "    return distrib_Uniform\n",
    "\n",
    "distib(8)\n",
    "print(sum(distib(8)))"
   ]
  },
  {
   "cell_type": "markdown",
   "metadata": {},
   "source": [
    "juste du texte\n"
   ]
  },
  {
   "cell_type": "code",
   "execution_count": 4,
   "metadata": {},
   "outputs": [
    {
     "data": {
      "text/plain": [
       "2"
      ]
     },
     "execution_count": 4,
     "metadata": {},
     "output_type": "execute_result"
    }
   ],
   "source": [
    "def suite_terme(L1,L2,n)->float:\n",
    "     \"\"\"renvoie le terme un-1 de la suite linéaire\n",
    "     recurrente donnée par L1 et L2.\n",
    "     Cf suite_liste()\"\"\"\n",
    "     troncation_a_la_plus_courte(L1,L2)\n",
    "     un = 0\n",
    "     p = len(L2) #on stocke l'ordre de la suite \n",
    "    \n",
    "     if n <= len(L2):\n",
    "        return L2[0:n]\n",
    "     else:\n",
    "        for i in range(len(L2),n):\n",
    "            un = sum([L1[x]*L2[-p+x] for x in range(p)])\n",
    "     return un\n",
    "L1 = [2]\n",
    "L2= [1]\n",
    "\n",
    "suite_terme(L1,L2,10)\n"
   ]
  },
  {
   "cell_type": "code",
   "execution_count": 20,
   "metadata": {},
   "outputs": [
    {
     "data": {
      "text/plain": [
       "1024"
      ]
     },
     "execution_count": 20,
     "metadata": {},
     "output_type": "execute_result"
    }
   ],
   "source": [
    "def suiteOrdre1(raison,premierTerme,n):\n",
    "    un = premierTerme\n",
    "    for i in range(0,n):\n",
    "        un = raison*un\n",
    "    return un\n",
    "suiteOrdre1(2,1,10)\n"
   ]
  },
  {
   "cell_type": "code",
   "execution_count": 4,
   "metadata": {},
   "outputs": [
    {
     "ename": "TypeError",
     "evalue": "bad operand type for abs(): 'tuple'",
     "output_type": "error",
     "traceback": [
      "\u001b[0;31m---------------------------------------------------------------------------\u001b[0m",
      "\u001b[0;31mTypeError\u001b[0m                                 Traceback (most recent call last)",
      "Cell \u001b[0;32mIn[4], line 1\u001b[0m\n\u001b[0;32m----> 1\u001b[0m \u001b[38;5;28;43mabs\u001b[39;49m\u001b[43m(\u001b[49m\u001b[43m(\u001b[49m\u001b[38;5;241;43m3\u001b[39;49m\u001b[43m,\u001b[49m\u001b[38;5;241;43m8\u001b[39;49m\u001b[43m,\u001b[49m\u001b[38;5;241;43m2\u001b[39;49m\u001b[43m,\u001b[49m\u001b[38;5;241;43m-\u001b[39;49m\u001b[38;5;241;43m7\u001b[39;49m\u001b[43m)\u001b[49m\u001b[43m)\u001b[49m\n",
      "\u001b[0;31mTypeError\u001b[0m: bad operand type for abs(): 'tuple'"
     ]
    }
   ],
   "source": [
    "abs((3,8,2,-7))"
   ]
  },
  {
   "cell_type": "code",
   "execution_count": null,
   "metadata": {},
   "outputs": [],
   "source": [
    "def suite(L1,L2,n):\n",
    "    un, ui = 0, 0\n",
    "    output = L2\n",
    "    for i in range(L2,n):\n",
    "        ui = sum(L1[])\n"
   ]
  },
  {
   "cell_type": "code",
   "execution_count": 62,
   "metadata": {},
   "outputs": [
    {
     "name": "stdout",
     "output_type": "stream",
     "text": [
      "[0, 1, 2, 3, 4, 5, 6] [0, 1, 2, 3, 4, 5, 6, 7, 8, 9, 10, 11]\n",
      "[0, 1, 4, 9, 16, 25, 36]\n",
      "45\n"
     ]
    }
   ],
   "source": [
    "L1 = [x for x in range(0,7)]\n",
    "L2 = [x for x in range(0,12)]\n",
    "L3 = [L1[x]*L2[x]for x in range(0,7)]\n",
    "print(L1,L2)\n",
    "print(L3)\n",
    "print(sum([x for x in range(0,10)]))"
   ]
  },
  {
   "cell_type": "code",
   "execution_count": 6,
   "metadata": {},
   "outputs": [
    {
     "data": {
      "text/plain": [
       "(-10, 9)"
      ]
     },
     "execution_count": 6,
     "metadata": {},
     "output_type": "execute_result"
    }
   ],
   "source": [
    "def max_et_min2(L: list) -> tuple:\n",
    "    \"\"\"Compare les éléments de la liste deux à deux,\n",
    "    et renvoie le couple min/max de la liste.\"\"\"\n",
    "    if len(L) == 1 or liste\n",
    "\n",
    "    # Initialisation des valeurs min et max en fonction des deux premiers éléments\n",
    "    if L[0] < L[1]:\n",
    "        min_val, max_val = L[0], L[1]\n",
    "    else:\n",
    "        min_val, max_val = L[1], L[0]\n",
    "\n",
    "    # Comparaison des éléments deux à deux à partir du troisième élément\n",
    "    for i in range(2, len(L) - 1, 2):\n",
    "        if L[i] < L[i + 1]:\n",
    "            min_val = min(min_val, L[i])\n",
    "            max_val = max(max_val, L[i + 1])\n",
    "        else:\n",
    "            min_val = min(min_val, L[i + 1])\n",
    "            max_val = max(max_val, L[i])\n",
    "\n",
    "    # Si la liste a un nombre impair d'éléments, comparer le dernier élément restant\n",
    "    if len(L) % 2 != 0:\n",
    "        min_val = min(min_val, L[-1])\n",
    "        max_val = max(max_val, L[-1])\n",
    "\n",
    "    return (min_val, max_val)\n",
    "\n",
    "# Exemple de test\n",
    "test_liste = [x for x in range(-10, 10)]\n",
    "resultat = max_et_min2(test_liste)\n",
    "resultat\n"
   ]
  },
  {
   "cell_type": "code",
   "execution_count": 17,
   "metadata": {},
   "outputs": [
    {
     "name": "stdout",
     "output_type": "stream",
     "text": [
      "[-73, -89, 33, 75, -67, -30, -14, -32, 73, -58, -31, 34, 29, -7, 77, 96]\n"
     ]
    }
   ],
   "source": [
    "import random as rd\n",
    "def nliste(n): return [rd.randrange(-100,100) for x in range(2**n)]\n",
    "nliste(5)\n",
    "\n",
    "A = nliste(4)\n",
    "print(A)"
   ]
  },
  {
   "cell_type": "code",
   "execution_count": 1,
   "metadata": {},
   "outputs": [
    {
     "name": "stdout",
     "output_type": "stream",
     "text": [
      "hello world\n"
     ]
    }
   ],
   "source": [
    "print(\"hello world\")"
   ]
  },
  {
   "cell_type": "code",
   "execution_count": 10,
   "metadata": {},
   "outputs": [
    {
     "ename": "KeyboardInterrupt",
     "evalue": "",
     "output_type": "error",
     "traceback": [
      "\u001b[0;31m---------------------------------------------------------------------------\u001b[0m",
      "\u001b[0;31mKeyboardInterrupt\u001b[0m                         Traceback (most recent call last)",
      "Cell \u001b[0;32mIn[10], line 111\u001b[0m\n\u001b[1;32m    108\u001b[0m temps_max_et_min2 \u001b[38;5;241m=\u001b[39m []\n\u001b[1;32m    110\u001b[0m \u001b[38;5;28;01mfor\u001b[39;00m n \u001b[38;5;129;01min\u001b[39;00m valeursEssayees:\n\u001b[0;32m--> 111\u001b[0m     moy1, moy2 \u001b[38;5;241m=\u001b[39m \u001b[43mtemps_moy\u001b[49m\u001b[43m(\u001b[49m\u001b[43mn\u001b[49m\u001b[43m)\u001b[49m\n\u001b[1;32m    112\u001b[0m     temps_max_et_min1\u001b[38;5;241m.\u001b[39mappend(moy1)\n\u001b[1;32m    113\u001b[0m     temps_max_et_min2\u001b[38;5;241m.\u001b[39mappend(moy2)\n",
      "Cell \u001b[0;32mIn[10], line 91\u001b[0m, in \u001b[0;36mtemps_moy\u001b[0;34m(n)\u001b[0m\n\u001b[1;32m     89\u001b[0m Temps1, Temps2 \u001b[38;5;241m=\u001b[39m [], []\n\u001b[1;32m     90\u001b[0m \u001b[38;5;28;01mfor\u001b[39;00m _ \u001b[38;5;129;01min\u001b[39;00m \u001b[38;5;28mrange\u001b[39m(\u001b[38;5;28mint\u001b[39m(\u001b[38;5;241m10\u001b[39m\u001b[38;5;241m*\u001b[39m\u001b[38;5;241m*\u001b[39m\u001b[38;5;241m4\u001b[39m\u001b[38;5;241m/\u001b[39mn) \u001b[38;5;241m+\u001b[39m \u001b[38;5;241m1\u001b[39m):\n\u001b[0;32m---> 91\u001b[0m     liste_test \u001b[38;5;241m=\u001b[39m \u001b[43mtab_aleatoire\u001b[49m\u001b[43m(\u001b[49m\u001b[43mn\u001b[49m\u001b[43m)\u001b[49m\n\u001b[1;32m     93\u001b[0m     t0 \u001b[38;5;241m=\u001b[39m time\u001b[38;5;241m.\u001b[39mperf_counter()\n\u001b[1;32m     94\u001b[0m     max_et_min1(liste_test)\n",
      "Cell \u001b[0;32mIn[10], line 33\u001b[0m, in \u001b[0;36mtab_aleatoire\u001b[0;34m(n)\u001b[0m\n\u001b[1;32m     32\u001b[0m \u001b[38;5;28;01mdef\u001b[39;00m \u001b[38;5;21mtab_aleatoire\u001b[39m(n:\u001b[38;5;28mint\u001b[39m)\u001b[38;5;241m-\u001b[39m\u001b[38;5;241m>\u001b[39m\u001b[38;5;28mlist\u001b[39m:\n\u001b[0;32m---> 33\u001b[0m     L \u001b[38;5;241m=\u001b[39m [rd\u001b[38;5;241m.\u001b[39mrandrange(\u001b[38;5;241m-\u001b[39m\u001b[38;5;241m100\u001b[39m,\u001b[38;5;241m100\u001b[39m) \u001b[38;5;28;01mfor\u001b[39;00m x \u001b[38;5;129;01min\u001b[39;00m \u001b[38;5;28mrange\u001b[39m(\u001b[38;5;241m2\u001b[39m\u001b[38;5;241m*\u001b[39m\u001b[38;5;241m*\u001b[39mn)]\n\u001b[1;32m     34\u001b[0m     \u001b[38;5;28;01mreturn\u001b[39;00m L\n",
      "Cell \u001b[0;32mIn[10], line 33\u001b[0m, in \u001b[0;36m<listcomp>\u001b[0;34m(.0)\u001b[0m\n\u001b[1;32m     32\u001b[0m \u001b[38;5;28;01mdef\u001b[39;00m \u001b[38;5;21mtab_aleatoire\u001b[39m(n:\u001b[38;5;28mint\u001b[39m)\u001b[38;5;241m-\u001b[39m\u001b[38;5;241m>\u001b[39m\u001b[38;5;28mlist\u001b[39m:\n\u001b[0;32m---> 33\u001b[0m     L \u001b[38;5;241m=\u001b[39m [rd\u001b[38;5;241m.\u001b[39mrandrange(\u001b[38;5;241m-\u001b[39m\u001b[38;5;241m100\u001b[39m,\u001b[38;5;241m100\u001b[39m) \u001b[38;5;28;01mfor\u001b[39;00m x \u001b[38;5;129;01min\u001b[39;00m \u001b[38;5;28mrange\u001b[39m(\u001b[38;5;241m2\u001b[39m\u001b[38;5;241m*\u001b[39m\u001b[38;5;241m*\u001b[39mn)]\n\u001b[1;32m     34\u001b[0m     \u001b[38;5;28;01mreturn\u001b[39;00m L\n",
      "\u001b[0;31mKeyboardInterrupt\u001b[0m: "
     ]
    }
   ],
   "source": [
    "import time\n",
    "from matplotlib import pyplot as plt\n",
    "import random as rd\n",
    "import statistics as st\n",
    "\n",
    "def listeidentique(L:list) -> bool:\n",
    "    \"\"\"renvoie True si la liste est identique\"\"\"\n",
    "    for i in range(len(L)):\n",
    "        if L[i] != L[0]:\n",
    "            return False\n",
    "        else: pass\n",
    "    return True\n",
    "\n",
    "def max_et_min1(L:list)->tuple:\n",
    "    \"\"\"Renvoie Le max et min d'une liste sous forme de tuple\"\"\"\n",
    "    if listeidentique(L) or len(L)==1:\n",
    "        return (L[0], L[1])\n",
    "    else: \n",
    "        plusGrand = float('-inf')\n",
    "        plusPetit = float('inf')\n",
    "\n",
    "        for i, nombre in enumerate(L):\n",
    "            if nombre >= plusGrand:\n",
    "                plusGrand= nombre\n",
    "            if nombre <= plusPetit:\n",
    "                plusPetit = nombre\n",
    "    return (plusPetit, plusGrand)\n",
    "    \n",
    "\n",
    "#===============2\n",
    "\n",
    "def tab_aleatoire(n:int)->list:\n",
    "    L = [rd.randrange(-100,100) for x in range(2**n)]\n",
    "    return L\n",
    "\n",
    "\n",
    "def max_et_min2(L: list) -> tuple:\n",
    "    \"\"\" Prend en argument une liste et renvoie un tuple\n",
    "    composé d'abord de son min, puis de son max\n",
    "\n",
    "    Compare les éléments de la liste deux à deux\n",
    "    \"\"\"\n",
    "    if len(L) == 1 or listeidentique(L):\n",
    "        return (L[0],L[0])\n",
    "\n",
    "    if L[0] < L[1]:\n",
    "        minListe, maxListe = L[0], L[1]\n",
    "    else:\n",
    "        minListe, maxListe = L[1], L[0]\n",
    "\n",
    "    for i in range(2, len(L) - 1, 2):\n",
    "        if L[i] < L[i + 1]:\n",
    "            minListe = min(minListe, L[i])\n",
    "            maxListe = max(maxListe, L[i + 1])\n",
    "        else:\n",
    "            minListe = min(minListe, L[i + 1])\n",
    "            maxListe = max(maxListe, L[i])\n",
    "\n",
    "    # Si la liste a un nombre impair d'éléments, comparer le dernier élément restant\n",
    "    if len(L) % 2 == 1:\n",
    "        minListe = min(minListe, L[-1])\n",
    "        maxListe = max(maxListe, L[-1])\n",
    "\n",
    "    return (minListe, maxListe)\n",
    "\n",
    "\n",
    "\n",
    "def benchmark(L=[10, 100, 1000, 10000]) -> list:\n",
    "    \"\"\"Renvoie le temps de calcul des deux fonctions pour des listes de différentes tailles.\"\"\"\n",
    "    temps = []\n",
    "    for valeur in L:\n",
    "        liste_test = tab_aleatoire(valeur)\n",
    "        \n",
    "        t0 = time.perf_counter()\n",
    "        max_et_min1(liste_test)\n",
    "        t1 = time.perf_counter()\n",
    "        tmax_et_min1 = t1 - t0\n",
    "\n",
    "        t0 = time.perf_counter()\n",
    "        max_et_min2(liste_test)\n",
    "        t1 = time.perf_counter()\n",
    "        tmax_et_min2 = t1 - t0\n",
    "\n",
    "        temps.append((valeur, tmax_et_min1, tmax_et_min2))\n",
    "    return temps\n",
    "\n",
    "def temps_moy(n: int) -> tuple:\n",
    "    \"\"\"Renvoie la moyenne des temps de calcul des deux fonctions pour une liste de taille n.\"\"\"\n",
    "    Temps1, Temps2 = [], []\n",
    "    for _ in range(int(10**4/n) + 1):\n",
    "        liste_test = tab_aleatoire(n)\n",
    "        \n",
    "        t0 = time.perf_counter()\n",
    "        max_et_min1(liste_test)\n",
    "        t1 = time.perf_counter()\n",
    "        Temps1.append(t1 - t0)\n",
    "\n",
    "        t0 = time.perf_counter()\n",
    "        max_et_min2(liste_test)\n",
    "        t1 = time.perf_counter()\n",
    "        Temps2.append(t1 - t0)\n",
    "\n",
    "    return (st.mean(Temps1), st.mean(Temps2))\n",
    "\n",
    "# Comparaison des temps moyens\n",
    "valeursEssayees = [10**i for i in range(1, 5)]  # n = 10^1, 10^2, ..., 10^4\n",
    "temps_max_et_min1 = []\n",
    "temps_max_et_min2 = []\n",
    "\n",
    "for n in valeursEssayees:\n",
    "    moy1, moy2 = temps_moy(n)\n",
    "    temps_max_et_min1.append(moy1)\n",
    "    temps_max_et_min2.append(moy2)\n",
    "\n",
    "# Visualisation des résultats\n",
    "plt.figure(figsize=(10, 6))\n",
    "plt.plot(valeursEssayees, temps_max_et_min1, label='max_et_min1()', marker='o')\n",
    "plt.plot(valeursEssayees, temps_max_et_min2, label='max_et_min2()', marker='o')\n",
    "\n",
    "plt.xscale('log')\n",
    "plt.yscale('log')\n",
    "plt.xlabel('Nombre d\\'éléments (n)')\n",
    "plt.ylabel('Temps moyen d\\'exécution (s)')\n",
    "plt.title('Temps moyen d\\'exécution pour max_et_min1() et max_et_min2()')\n",
    "plt.legend()\n",
    "plt.grid()\n",
    "plt.show()"
   ]
  },
  {
   "cell_type": "code",
   "execution_count": 12,
   "metadata": {},
   "outputs": [
    {
     "ename": "KeyboardInterrupt",
     "evalue": "",
     "output_type": "error",
     "traceback": [
      "\u001b[0;31m---------------------------------------------------------------------------\u001b[0m",
      "\u001b[0;31mKeyboardInterrupt\u001b[0m                         Traceback (most recent call last)",
      "Cell \u001b[0;32mIn[12], line 101\u001b[0m\n\u001b[1;32m     98\u001b[0m temps_max_et_min2 \u001b[38;5;241m=\u001b[39m []\n\u001b[1;32m    100\u001b[0m \u001b[38;5;28;01mfor\u001b[39;00m n \u001b[38;5;129;01min\u001b[39;00m valeursEssayees:\n\u001b[0;32m--> 101\u001b[0m     moy1, moy2 \u001b[38;5;241m=\u001b[39m \u001b[43mtemps_moy\u001b[49m\u001b[43m(\u001b[49m\u001b[43mn\u001b[49m\u001b[43m)\u001b[49m\n\u001b[1;32m    102\u001b[0m     temps_max_et_min1\u001b[38;5;241m.\u001b[39mappend(moy1)\n\u001b[1;32m    103\u001b[0m     temps_max_et_min2\u001b[38;5;241m.\u001b[39mappend(moy2)\n",
      "Cell \u001b[0;32mIn[12], line 81\u001b[0m, in \u001b[0;36mtemps_moy\u001b[0;34m(n)\u001b[0m\n\u001b[1;32m     79\u001b[0m Temps1, Temps2 \u001b[38;5;241m=\u001b[39m [], []\n\u001b[1;32m     80\u001b[0m \u001b[38;5;28;01mfor\u001b[39;00m _ \u001b[38;5;129;01min\u001b[39;00m \u001b[38;5;28mrange\u001b[39m(\u001b[38;5;28mint\u001b[39m(\u001b[38;5;241m10\u001b[39m\u001b[38;5;241m*\u001b[39m\u001b[38;5;241m*\u001b[39m\u001b[38;5;241m4\u001b[39m\u001b[38;5;241m/\u001b[39mn) \u001b[38;5;241m+\u001b[39m \u001b[38;5;241m1\u001b[39m):\n\u001b[0;32m---> 81\u001b[0m     liste_test \u001b[38;5;241m=\u001b[39m \u001b[43mtab_aleatoire\u001b[49m\u001b[43m(\u001b[49m\u001b[43mn\u001b[49m\u001b[43m)\u001b[49m\n\u001b[1;32m     83\u001b[0m     t0 \u001b[38;5;241m=\u001b[39m time\u001b[38;5;241m.\u001b[39mperf_counter()\n\u001b[1;32m     84\u001b[0m     max_et_min1(liste_test)\n",
      "Cell \u001b[0;32mIn[12], line 30\u001b[0m, in \u001b[0;36mtab_aleatoire\u001b[0;34m(n)\u001b[0m\n\u001b[1;32m     28\u001b[0m \u001b[38;5;28;01mdef\u001b[39;00m \u001b[38;5;21mtab_aleatoire\u001b[39m(n: \u001b[38;5;28mint\u001b[39m) \u001b[38;5;241m-\u001b[39m\u001b[38;5;241m>\u001b[39m \u001b[38;5;28mlist\u001b[39m:\n\u001b[1;32m     29\u001b[0m \u001b[38;5;250m    \u001b[39m\u001b[38;5;124;03m\"\"\"Renvoie une liste aléatoire de taille 2^n avec des valeurs comprises entre -100 et 100.\"\"\"\u001b[39;00m\n\u001b[0;32m---> 30\u001b[0m     \u001b[38;5;28;01mreturn\u001b[39;00m [rd\u001b[38;5;241m.\u001b[39mrandrange(\u001b[38;5;241m-\u001b[39m\u001b[38;5;241m100\u001b[39m, \u001b[38;5;241m100\u001b[39m) \u001b[38;5;28;01mfor\u001b[39;00m _ \u001b[38;5;129;01min\u001b[39;00m \u001b[38;5;28mrange\u001b[39m(\u001b[38;5;241m2\u001b[39m\u001b[38;5;241m*\u001b[39m\u001b[38;5;241m*\u001b[39mn)]\n",
      "Cell \u001b[0;32mIn[12], line 30\u001b[0m, in \u001b[0;36m<listcomp>\u001b[0;34m(.0)\u001b[0m\n\u001b[1;32m     28\u001b[0m \u001b[38;5;28;01mdef\u001b[39;00m \u001b[38;5;21mtab_aleatoire\u001b[39m(n: \u001b[38;5;28mint\u001b[39m) \u001b[38;5;241m-\u001b[39m\u001b[38;5;241m>\u001b[39m \u001b[38;5;28mlist\u001b[39m:\n\u001b[1;32m     29\u001b[0m \u001b[38;5;250m    \u001b[39m\u001b[38;5;124;03m\"\"\"Renvoie une liste aléatoire de taille 2^n avec des valeurs comprises entre -100 et 100.\"\"\"\u001b[39;00m\n\u001b[0;32m---> 30\u001b[0m     \u001b[38;5;28;01mreturn\u001b[39;00m [rd\u001b[38;5;241m.\u001b[39mrandrange(\u001b[38;5;241m-\u001b[39m\u001b[38;5;241m100\u001b[39m, \u001b[38;5;241m100\u001b[39m) \u001b[38;5;28;01mfor\u001b[39;00m _ \u001b[38;5;129;01min\u001b[39;00m \u001b[38;5;28mrange\u001b[39m(\u001b[38;5;241m2\u001b[39m\u001b[38;5;241m*\u001b[39m\u001b[38;5;241m*\u001b[39mn)]\n",
      "\u001b[0;31mKeyboardInterrupt\u001b[0m: "
     ]
    }
   ],
   "source": [
    "import time\n",
    "from matplotlib import pyplot as plt\n",
    "import random as rd\n",
    "import statistics as st\n",
    "\n",
    "def listeidentique(L: list) -> bool:\n",
    "    \"\"\"Renvoie True si tous les éléments de la liste sont identiques.\"\"\"\n",
    "    return all(x == L[0] for x in L)\n",
    "\n",
    "def max_et_min1(L: list) -> tuple:\n",
    "    \"\"\"Renvoie le min et max d'une liste sous forme de tuple.\"\"\"\n",
    "    if len(L) == 1:\n",
    "        return (L[0], L[0])\n",
    "    if listeidentique(L):\n",
    "        return (L[0], L[0])\n",
    "    \n",
    "    plusGrand = float('-inf')\n",
    "    plusPetit = float('inf')\n",
    "\n",
    "    for nombre in L:\n",
    "        if nombre > plusGrand:\n",
    "            plusGrand = nombre\n",
    "        if nombre < plusPetit:\n",
    "            plusPetit = nombre\n",
    "\n",
    "    return (plusPetit, plusGrand)\n",
    "\n",
    "def tab_aleatoire(n: int) -> list:\n",
    "    \"\"\"Renvoie une liste aléatoire de taille 2^n avec des valeurs comprises entre -100 et 100.\"\"\"\n",
    "    return [rd.randrange(-100, 100) for _ in range(2**n)]\n",
    "\n",
    "def max_et_min2(L: list) -> tuple:\n",
    "    \"\"\"Renvoie le min et max d'une liste en comparant les éléments deux à deux.\"\"\"\n",
    "    if len(L) == 1:\n",
    "        return (L[0], L[0])\n",
    "    if listeidentique(L):\n",
    "        return (L[0], L[0])\n",
    "\n",
    "    if L[0] < L[1]:\n",
    "        minListe, maxListe = L[0], L[1]\n",
    "    else:\n",
    "        minListe, maxListe = L[1], L[0]\n",
    "\n",
    "    for i in range(2, len(L) - 1, 2):\n",
    "        if L[i] < L[i + 1]:\n",
    "            minListe = min(minListe, L[i])\n",
    "            maxListe = max(maxListe, L[i + 1])\n",
    "        else:\n",
    "            minListe = min(minListe, L[i + 1])\n",
    "            maxListe = max(maxListe, L[i])\n",
    "\n",
    "    if len(L) % 2 == 1:\n",
    "        minListe = min(minListe, L[-1])\n",
    "        maxListe = max(maxListe, L[-1])\n",
    "\n",
    "    return (minListe, maxListe)\n",
    "\n",
    "def benchmark(L=[10, 100]) -> list:\n",
    "    \"\"\"Renvoie le temps de calcul des deux fonctions pour des listes de différentes tailles.\"\"\"\n",
    "    temps = []\n",
    "    for valeur in L:\n",
    "        liste_test = tab_aleatoire(valeur)\n",
    "        \n",
    "        t0 = time.perf_counter()\n",
    "        max_et_min1(liste_test)\n",
    "        t1 = time.perf_counter()\n",
    "        tmax_et_min1 = t1 - t0\n",
    "\n",
    "        t0 = time.perf_counter()\n",
    "        max_et_min2(liste_test)\n",
    "        t1 = time.perf_counter()\n",
    "        tmax_et_min2 = t1 - t0\n",
    "\n",
    "        temps.append((valeur, tmax_et_min1, tmax_et_min2))\n",
    "    return temps\n",
    "\n",
    "def temps_moy(n: int) -> tuple:\n",
    "    \"\"\"Renvoie la moyenne des temps de calcul des deux fonctions pour une liste de taille n.\"\"\"\n",
    "    Temps1, Temps2 = [], []\n",
    "    for _ in range(int(10**4/n) + 1):\n",
    "        liste_test = tab_aleatoire(n)\n",
    "        \n",
    "        t0 = time.perf_counter()\n",
    "        max_et_min1(liste_test)\n",
    "        t1 = time.perf_counter()\n",
    "        Temps1.append(t1 - t0)\n",
    "\n",
    "        t0 = time.perf_counter()\n",
    "        max_et_min2(liste_test)\n",
    "        t1 = time.perf_counter()\n",
    "        Temps2.append(t1 - t0)\n",
    "\n",
    "    return (st.mean(Temps1), st.mean(Temps2))\n",
    "\n",
    "# Comparaison des temps moyens\n",
    "valeursEssayees = [10**i for i in range(1, 3)]  # n = 10^1, 10^2, ..., 10^4\n",
    "temps_max_et_min1 = []\n",
    "temps_max_et_min2 = []\n",
    "\n",
    "for n in valeursEssayees:\n",
    "    moy1, moy2 = temps_moy(n)\n",
    "    temps_max_et_min1.append(moy1)\n",
    "    temps_max_et_min2.append(moy2)\n",
    "\n",
    "# Visualisation des résultats\n",
    "plt.figure(figsize=(10, 6))\n",
    "plt.plot(valeursEssayees, temps_max_et_min1, label='max_et_min1()', marker='o')\n",
    "plt.plot(valeursEssayees, temps_max_et_min2, label='max_et_min2()', marker='o')\n",
    "\n",
    "plt.xscale('log')\n",
    "plt.yscale('log')\n",
    "plt.xlabel('Nombre d\\'éléments (n)')\n",
    "plt.ylabel('Temps moyen d\\'exécution (s)')\n",
    "plt.title('Temps moyen d\\'exécution pour max_et_min1() et max_et_min2()')\n",
    "plt.legend()\n",
    "plt.grid()\n",
    "plt.show()\n"
   ]
  },
  {
   "cell_type": "code",
   "execution_count": 18,
   "metadata": {},
   "outputs": [
    {
     "data": {
      "image/png": "[encoded data removed]",
      "text/plain": [
       "<Figure size 1000x700 with 1 Axes>"
      ]
     },
     "metadata": {},
     "output_type": "display_data"
    }
   ],
   "source": [
    "import time\n",
    "import random\n",
    "import matplotlib.pyplot as plt\n",
    "\n",
    "def listeidentique(L: list) -> bool:\n",
    "    \"\"\"Renvoie True si tous les éléments de la liste sont identiques.\"\"\"\n",
    "    return all(x == L[0] for x in L)\n",
    "\n",
    "def max_et_min1(L: list) -> tuple:\n",
    "    \"\"\"Renvoie Le max et min d'une liste sous forme de tuple.\"\"\"\n",
    "    if listeidentique(L) or len(L) == 1:\n",
    "        return (L[0], L[0])\n",
    "    else:\n",
    "        plusGrand = float('-inf')\n",
    "        plusPetit = float('inf')\n",
    "\n",
    "        for nombre in L:\n",
    "            if nombre >= plusGrand:\n",
    "                plusGrand = nombre\n",
    "            if nombre <= plusPetit:\n",
    "                plusPetit = nombre\n",
    "    return (plusPetit, plusGrand)\n",
    "\n",
    "def max_et_min2(L: list) -> tuple:\n",
    "    \"\"\"Renvoie le min et max d'une liste en comparant les éléments deux à deux.\"\"\"\n",
    "    if len(L) == 1 or listeidentique(L):\n",
    "        return (L[0], L[0])\n",
    "\n",
    "    if L[0] < L[1]:\n",
    "        minListe, maxListe = L[0], L[1]\n",
    "    else:\n",
    "        minListe, maxListe = L[1], L[0]\n",
    "\n",
    "    for i in range(2, len(L) - 1, 2):\n",
    "        if L[i] < L[i + 1]:\n",
    "            minListe = min(minListe, L[i])\n",
    "            maxListe = max(maxListe, L[i + 1])\n",
    "        else:\n",
    "            minListe = min(minListe, L[i + 1])\n",
    "            maxListe = max(maxListe, L[i])\n",
    "\n",
    "    if len(L) % 2 == 1:\n",
    "        minListe = min(minListe, L[-1])\n",
    "        maxListe = max(maxListe, L[-1])\n",
    "\n",
    "    return (minListe, maxListe)\n",
    "\n",
    "def tab_aleatoire(taille: int) -> list:\n",
    "    \"\"\"Génère une liste aléatoire de la taille donnée.\"\"\"\n",
    "    return [random.randint(-1000, 1000) for _ in range(taille)]\n",
    "\n",
    "def benchmark(fonction1, fonction2, tailles: list) -> tuple:\n",
    "    \"\"\"Effectue un benchmark des deux fonctions pour différentes tailles de listes.\"\"\"\n",
    "    temps1 = []\n",
    "    temps2 = []\n",
    "    \n",
    "    for taille in tailles:\n",
    "        liste_test = tab_aleatoire(taille)\n",
    "        \n",
    "        # Benchmark max_et_min1\n",
    "        debut1 = time.perf_counter()\n",
    "        fonction1(liste_test)\n",
    "        fin1 = time.perf_counter()\n",
    "        temps1.append(fin1 - debut1)\n",
    "        \n",
    "        # Benchmark max_et_min2\n",
    "        debut2 = time.perf_counter()\n",
    "        fonction2(liste_test)\n",
    "        fin2 = time.perf_counter()\n",
    "        temps2.append(fin2 - debut2)\n",
    "    \n",
    "    return temps1, temps2\n",
    "\n",
    "# Exécution du benchmark avec des tailles de liste de test\n",
    "tailles_liste = [10**x for x in range(0, 9)]\n",
    "temps1, temps2 = benchmark(max_et_min1, max_et_min2, tailles_liste)\n",
    "\n",
    "# Création du graphique\n",
    "plt.figure(figsize=(10, 7))\n",
    "plt.plot(tailles_liste, temps1, label='max_et_min1()', marker='o')\n",
    "plt.plot(tailles_liste, temps2, label='max_et_min2()', marker='o')\n",
    "\n",
    "# Utilisation de l'échelle logarithmique\n",
    "plt.xscale('log')\n",
    "plt.yscale('log')\n",
    "\n",
    "plt.xlabel('Taille de la liste')\n",
    "plt.ylabel('Temps d\\'exécution (secondes)')\n",
    "plt.title('Comparaison des temps d\\'exécution de max_et_min1() et max_et_min2()')\n",
    "plt.legend()\n",
    "plt.grid(True)\n",
    "\n",
    "# Affichage du graphique\n",
    "plt.show()\n"
   ]
  },
  {
   "cell_type": "code",
   "execution_count": null,
   "metadata": {},
   "outputs": [],
   "source": [
    "def troncation_a_la_plus_courte(L1,L2)->tuple:\n",
    "     \"\"\"renvoie la troncation des deux listes passees \n",
    "     en parametre\"\"\"\n",
    "     if len(L1) <= len(L2):\n",
    "          return (L1, L2[:len(L1)])\n",
    "     else:\n",
    "          return (L1[:len(L2)],L2)\n",
    "    \n"
   ]
  },
  {
   "cell_type": "code",
   "execution_count": 2,
   "metadata": {},
   "outputs": [
    {
     "data": {
      "text/plain": [
       "0"
      ]
     },
     "execution_count": 2,
     "metadata": {},
     "output_type": "execute_result"
    }
   ],
   "source": [
    "5%1"
   ]
  },
  {
   "cell_type": "code",
   "execution_count": 8,
   "metadata": {},
   "outputs": [
    {
     "ename": "ValueError",
     "evalue": "stmt is neither a string nor callable",
     "output_type": "error",
     "traceback": [
      "\u001b[0;31m---------------------------------------------------------------------------\u001b[0m",
      "\u001b[0;31mValueError\u001b[0m                                Traceback (most recent call last)",
      "Cell \u001b[0;32mIn[8], line 68\u001b[0m\n\u001b[1;32m     65\u001b[0m     \u001b[38;5;28;01mreturn\u001b[39;00m (minListe, maxListe)\n\u001b[1;32m     67\u001b[0m L\u001b[38;5;241m=\u001b[39m [rd\u001b[38;5;241m.\u001b[39mrandrange(\u001b[38;5;241m-\u001b[39m\u001b[38;5;241m100\u001b[39m,\u001b[38;5;241m100\u001b[39m) \u001b[38;5;28;01mfor\u001b[39;00m x \u001b[38;5;129;01min\u001b[39;00m \u001b[38;5;28mrange\u001b[39m(\u001b[38;5;241m1000\u001b[39m)]\n\u001b[0;32m---> 68\u001b[0m result \u001b[38;5;241m=\u001b[39m \u001b[43mtimeit\u001b[49m\u001b[38;5;241;43m.\u001b[39;49m\u001b[43mtimeit\u001b[49m\u001b[43m(\u001b[49m\u001b[43mmax_et_min1\u001b[49m\u001b[43m(\u001b[49m\u001b[43mL\u001b[49m\u001b[43m)\u001b[49m\u001b[43m,\u001b[49m\u001b[43mnumber\u001b[49m\u001b[43m \u001b[49m\u001b[38;5;241;43m=\u001b[39;49m\u001b[38;5;241;43m10\u001b[39;49m\u001b[43m)\u001b[49m\n",
      "File \u001b[0;32m/Library/Developer/CommandLineTools/Library/Frameworks/Python3.framework/Versions/3.9/lib/python3.9/timeit.py:233\u001b[0m, in \u001b[0;36mtimeit\u001b[0;34m(stmt, setup, timer, number, globals)\u001b[0m\n\u001b[1;32m    230\u001b[0m \u001b[38;5;28;01mdef\u001b[39;00m \u001b[38;5;21mtimeit\u001b[39m(stmt\u001b[38;5;241m=\u001b[39m\u001b[38;5;124m\"\u001b[39m\u001b[38;5;124mpass\u001b[39m\u001b[38;5;124m\"\u001b[39m, setup\u001b[38;5;241m=\u001b[39m\u001b[38;5;124m\"\u001b[39m\u001b[38;5;124mpass\u001b[39m\u001b[38;5;124m\"\u001b[39m, timer\u001b[38;5;241m=\u001b[39mdefault_timer,\n\u001b[1;32m    231\u001b[0m            number\u001b[38;5;241m=\u001b[39mdefault_number, \u001b[38;5;28mglobals\u001b[39m\u001b[38;5;241m=\u001b[39m\u001b[38;5;28;01mNone\u001b[39;00m):\n\u001b[1;32m    232\u001b[0m \u001b[38;5;250m    \u001b[39m\u001b[38;5;124;03m\"\"\"Convenience function to create Timer object and call timeit method.\"\"\"\u001b[39;00m\n\u001b[0;32m--> 233\u001b[0m     \u001b[38;5;28;01mreturn\u001b[39;00m \u001b[43mTimer\u001b[49m\u001b[43m(\u001b[49m\u001b[43mstmt\u001b[49m\u001b[43m,\u001b[49m\u001b[43m \u001b[49m\u001b[43msetup\u001b[49m\u001b[43m,\u001b[49m\u001b[43m \u001b[49m\u001b[43mtimer\u001b[49m\u001b[43m,\u001b[49m\u001b[43m \u001b[49m\u001b[38;5;28;43mglobals\u001b[39;49m\u001b[43m)\u001b[49m\u001b[38;5;241m.\u001b[39mtimeit(number)\n",
      "File \u001b[0;32m/Library/Developer/CommandLineTools/Library/Frameworks/Python3.framework/Versions/3.9/lib/python3.9/timeit.py:129\u001b[0m, in \u001b[0;36mTimer.__init__\u001b[0;34m(self, stmt, setup, timer, globals)\u001b[0m\n\u001b[1;32m    127\u001b[0m     stmt \u001b[38;5;241m=\u001b[39m \u001b[38;5;124m'\u001b[39m\u001b[38;5;124m_stmt()\u001b[39m\u001b[38;5;124m'\u001b[39m\n\u001b[1;32m    128\u001b[0m \u001b[38;5;28;01melse\u001b[39;00m:\n\u001b[0;32m--> 129\u001b[0m     \u001b[38;5;28;01mraise\u001b[39;00m \u001b[38;5;167;01mValueError\u001b[39;00m(\u001b[38;5;124m\"\u001b[39m\u001b[38;5;124mstmt is neither a string nor callable\u001b[39m\u001b[38;5;124m\"\u001b[39m)\n\u001b[1;32m    130\u001b[0m src \u001b[38;5;241m=\u001b[39m template\u001b[38;5;241m.\u001b[39mformat(stmt\u001b[38;5;241m=\u001b[39mstmt, setup\u001b[38;5;241m=\u001b[39msetup, init\u001b[38;5;241m=\u001b[39minit)\n\u001b[1;32m    131\u001b[0m \u001b[38;5;28mself\u001b[39m\u001b[38;5;241m.\u001b[39msrc \u001b[38;5;241m=\u001b[39m src  \u001b[38;5;66;03m# Save for traceback display\u001b[39;00m\n",
      "\u001b[0;31mValueError\u001b[0m: stmt is neither a string nor callable"
     ]
    }
   ],
   "source": [
    "import timeit\n",
    "import time\n",
    "from matplotlib import pyplot as plt\n",
    "import random as rd\n",
    "import statistics as st\n",
    "\n",
    "def listeidentique(L:list) -> bool:\n",
    "    \"\"\"renvoie True si la liste est identique\"\"\"\n",
    "    for i in range(len(L)):\n",
    "        if L[i] != L[0]:\n",
    "            return False\n",
    "        else: pass\n",
    "    return True\n",
    "\n",
    "def max_et_min1(L:list)->tuple:\n",
    "    \"\"\"Renvoie Le max et min d'une liste sous forme de tuple\"\"\"\n",
    "    if listeidentique(L) or len(L)==1:\n",
    "        return (L[0], L[1])\n",
    "    else: \n",
    "        plusGrand = float('-inf')\n",
    "        plusPetit = float('inf')\n",
    "\n",
    "        for i, nombre in enumerate(L):\n",
    "            if nombre >= plusGrand:\n",
    "                plusGrand= nombre\n",
    "            if nombre <= plusPetit:\n",
    "                plusPetit = nombre\n",
    "    return (plusPetit, plusGrand)\n",
    "    \n",
    "\n",
    "#===============2\n",
    "\n",
    "def tab_aleatoire(n:int)->list:\n",
    "    L = [rd.randrange(-100,100) for x in range(2**n)]\n",
    "    return L\n",
    "\n",
    "\n",
    "def max_et_min2(L: list) -> tuple:\n",
    "    \"\"\" Prend en argument une liste et renvoie un tuple\n",
    "    composé d'abord de son min, puis de son max\n",
    "\n",
    "    Compare les éléments de la liste deux à deux\n",
    "    \"\"\"\n",
    "    if len(L) == 1 or listeidentique(L):\n",
    "        return (L[0],L[0])\n",
    "\n",
    "    if L[0] < L[1]:\n",
    "        minListe, maxListe = L[0], L[1]\n",
    "    else:\n",
    "        minListe, maxListe = L[1], L[0]\n",
    "\n",
    "    for i in range(2, len(L) - 1, 2):\n",
    "        if L[i] < L[i + 1]:\n",
    "            minListe = min(minListe, L[i])\n",
    "            maxListe = max(maxListe, L[i + 1])\n",
    "        else:\n",
    "            minListe = min(minListe, L[i + 1])\n",
    "            maxListe = max(maxListe, L[i])\n",
    "\n",
    "    # Si la liste a un nombre impair d'éléments, comparer le dernier élément restant\n",
    "    if len(L) % 2 == 1:\n",
    "        minListe = min(minListe, L[-1])\n",
    "        maxListe = max(maxListe, L[-1])\n",
    "\n",
    "    return (minListe, maxListe)\n",
    "\n",
    "L= [rd.randrange(-100,100) for x in range(1000)]\n",
    "result = timeit.timeit(stmt='pass', setup='pass', timer=<default timer>, number=1000000, globals=None)\n"
   ]
  }
 ],
 "metadata": {
  "kernelspec": {
   "display_name": "Python 3",
   "language": "python",
   "name": "python3"
  },
  "language_info": {
   "codemirror_mode": {
    "name": "ipython",
    "version": 3
   },
   "file_extension": ".py",
   "mimetype": "text/x-python",
   "name": "python",
   "nbconvert_exporter": "python",
   "pygments_lexer": "ipython3",
   "version": "3.9.6"
  }
 },
 "nbformat": 4,
 "nbformat_minor": 2
}
